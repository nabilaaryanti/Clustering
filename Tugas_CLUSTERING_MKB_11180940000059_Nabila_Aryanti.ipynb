{
  "nbformat": 4,
  "nbformat_minor": 0,
  "metadata": {
    "kernelspec": {
      "display_name": "Python 3",
      "language": "python",
      "name": "python3"
    },
    "language_info": {
      "codemirror_mode": {
        "name": "ipython",
        "version": 3
      },
      "file_extension": ".py",
      "mimetype": "text/x-python",
      "name": "python",
      "nbconvert_exporter": "python",
      "pygments_lexer": "ipython3",
      "version": "3.7.6"
    },
    "colab": {
      "name": "Tugas_CLUSTERING_MKB_11180940000059_Nabila Aryanti.ipynb",
      "provenance": [],
      "include_colab_link": true
    }
  },
  "cells": [
    {
      "cell_type": "markdown",
      "metadata": {
        "id": "view-in-github",
        "colab_type": "text"
      },
      "source": [
        "<a href=\"https://colab.research.google.com/github/nabilaaryanti/Clustering/blob/main/Tugas_CLUSTERING_MKB_11180940000059_Nabila_Aryanti.ipynb\" target=\"_parent\"><img src=\"https://colab.research.google.com/assets/colab-badge.svg\" alt=\"Open In Colab\"/></a>"
      ]
    },
    {
      "cell_type": "markdown",
      "metadata": {
        "id": "69-MPYVFDLZe"
      },
      "source": [
        "## Preprocessing Data"
      ]
    },
    {
      "cell_type": "code",
      "metadata": {
        "id": "tG-ixWhjDLZk"
      },
      "source": [
        "# Import modul pyhton\n",
        "import warnings; warnings.simplefilter('ignore')\n",
        "import scipy, itertools, pandas as pd, matplotlib.pyplot as plt, seaborn as sns, numpy as np\n",
        "from scipy import stats\n",
        "from sklearn.preprocessing import StandardScaler, MinMaxScaler\n",
        "\n",
        "plt.style.use('bmh'); sns.set()"
      ],
      "execution_count": 1,
      "outputs": []
    },
    {
      "cell_type": "code",
      "metadata": {
        "colab": {
          "base_uri": "https://localhost:8080/"
        },
        "id": "S6Bc914eDLZl",
        "outputId": "11a9403f-9920-4b01-d7fa-fa6ac7202a93"
      },
      "source": [
        "#memanggil data csv\n",
        "!mkdir main\n",
        "!wget -P main/ https://raw.githubusercontent.com/nabilaaryanti/Clustering/main/nilai.csv\n",
        "nilai = pd.read_csv('main/nilai.csv')\n"
      ],
      "execution_count": 65,
      "outputs": [
        {
          "output_type": "stream",
          "text": [
            "mkdir: cannot create directory ‘main’: File exists\n",
            "--2021-05-04 16:40:11--  https://raw.githubusercontent.com/nabilaaryanti/Clustering/main/nilai.csv\n",
            "Resolving raw.githubusercontent.com (raw.githubusercontent.com)... 185.199.108.133, 185.199.109.133, 185.199.110.133, ...\n",
            "Connecting to raw.githubusercontent.com (raw.githubusercontent.com)|185.199.108.133|:443... connected.\n",
            "HTTP request sent, awaiting response... 200 OK\n",
            "Length: 446 [text/plain]\n",
            "Saving to: ‘main/nilai.csv.2’\n",
            "\n",
            "nilai.csv.2         100%[===================>]     446  --.-KB/s    in 0s      \n",
            "\n",
            "2021-05-04 16:40:12 (21.5 MB/s) - ‘main/nilai.csv.2’ saved [446/446]\n",
            "\n"
          ],
          "name": "stdout"
        }
      ]
    },
    {
      "cell_type": "markdown",
      "metadata": {
        "id": "qJeTb2RRDLZm"
      },
      "source": [
        "### Cek Data csv"
      ]
    },
    {
      "cell_type": "code",
      "metadata": {
        "colab": {
          "base_uri": "https://localhost:8080/",
          "height": 204
        },
        "id": "rTKNh_ZhEbNE",
        "outputId": "4e89dc6d-1e5c-4394-e270-dbceb752c3b7"
      },
      "source": [
        "# Mengecek tabel cvs\n",
        "nilai.head()"
      ],
      "execution_count": 66,
      "outputs": [
        {
          "output_type": "execute_result",
          "data": {
            "text/html": [
              "<div>\n",
              "<style scoped>\n",
              "    .dataframe tbody tr th:only-of-type {\n",
              "        vertical-align: middle;\n",
              "    }\n",
              "\n",
              "    .dataframe tbody tr th {\n",
              "        vertical-align: top;\n",
              "    }\n",
              "\n",
              "    .dataframe thead th {\n",
              "        text-align: right;\n",
              "    }\n",
              "</style>\n",
              "<table border=\"1\" class=\"dataframe\">\n",
              "  <thead>\n",
              "    <tr style=\"text-align: right;\">\n",
              "      <th></th>\n",
              "      <th>No</th>\n",
              "      <th>Nama</th>\n",
              "      <th>UTS</th>\n",
              "      <th>Tugas</th>\n",
              "      <th>UAS</th>\n",
              "    </tr>\n",
              "  </thead>\n",
              "  <tbody>\n",
              "    <tr>\n",
              "      <th>0</th>\n",
              "      <td>1</td>\n",
              "      <td>Roy</td>\n",
              "      <td>89</td>\n",
              "      <td>90</td>\n",
              "      <td>75</td>\n",
              "    </tr>\n",
              "    <tr>\n",
              "      <th>1</th>\n",
              "      <td>2</td>\n",
              "      <td>sintia</td>\n",
              "      <td>90</td>\n",
              "      <td>71</td>\n",
              "      <td>95</td>\n",
              "    </tr>\n",
              "    <tr>\n",
              "      <th>2</th>\n",
              "      <td>3</td>\n",
              "      <td>iqbal</td>\n",
              "      <td>70</td>\n",
              "      <td>75</td>\n",
              "      <td>80</td>\n",
              "    </tr>\n",
              "    <tr>\n",
              "      <th>3</th>\n",
              "      <td>4</td>\n",
              "      <td>dilan</td>\n",
              "      <td>45</td>\n",
              "      <td>65</td>\n",
              "      <td>59</td>\n",
              "    </tr>\n",
              "    <tr>\n",
              "      <th>4</th>\n",
              "      <td>5</td>\n",
              "      <td>ratna</td>\n",
              "      <td>65</td>\n",
              "      <td>75</td>\n",
              "      <td>53</td>\n",
              "    </tr>\n",
              "  </tbody>\n",
              "</table>\n",
              "</div>"
            ],
            "text/plain": [
              "   No    Nama  UTS  Tugas  UAS\n",
              "0   1     Roy   89     90   75\n",
              "1   2  sintia   90     71   95\n",
              "2   3   iqbal   70     75   80\n",
              "3   4   dilan   45     65   59\n",
              "4   5   ratna   65     75   53"
            ]
          },
          "metadata": {
            "tags": []
          },
          "execution_count": 66
        }
      ]
    },
    {
      "cell_type": "code",
      "metadata": {
        "colab": {
          "base_uri": "https://localhost:8080/",
          "height": 204
        },
        "id": "3QtD-_mQDLZm",
        "outputId": "3d1424f0-faf3-4ccb-fc81-bc9abe118e24"
      },
      "source": [
        "# mengecek baris akhir data\n",
        "nilai.tail()"
      ],
      "execution_count": 67,
      "outputs": [
        {
          "output_type": "execute_result",
          "data": {
            "text/html": [
              "<div>\n",
              "<style scoped>\n",
              "    .dataframe tbody tr th:only-of-type {\n",
              "        vertical-align: middle;\n",
              "    }\n",
              "\n",
              "    .dataframe tbody tr th {\n",
              "        vertical-align: top;\n",
              "    }\n",
              "\n",
              "    .dataframe thead th {\n",
              "        text-align: right;\n",
              "    }\n",
              "</style>\n",
              "<table border=\"1\" class=\"dataframe\">\n",
              "  <thead>\n",
              "    <tr style=\"text-align: right;\">\n",
              "      <th></th>\n",
              "      <th>No</th>\n",
              "      <th>Nama</th>\n",
              "      <th>UTS</th>\n",
              "      <th>Tugas</th>\n",
              "      <th>UAS</th>\n",
              "    </tr>\n",
              "  </thead>\n",
              "  <tbody>\n",
              "    <tr>\n",
              "      <th>10</th>\n",
              "      <td>11</td>\n",
              "      <td>justin</td>\n",
              "      <td>45</td>\n",
              "      <td>60</td>\n",
              "      <td>58</td>\n",
              "    </tr>\n",
              "    <tr>\n",
              "      <th>11</th>\n",
              "      <td>12</td>\n",
              "      <td>jesika</td>\n",
              "      <td>60</td>\n",
              "      <td>70</td>\n",
              "      <td>72</td>\n",
              "    </tr>\n",
              "    <tr>\n",
              "      <th>12</th>\n",
              "      <td>13</td>\n",
              "      <td>ayu</td>\n",
              "      <td>85</td>\n",
              "      <td>90</td>\n",
              "      <td>88</td>\n",
              "    </tr>\n",
              "    <tr>\n",
              "      <th>13</th>\n",
              "      <td>14</td>\n",
              "      <td>siska</td>\n",
              "      <td>52</td>\n",
              "      <td>68</td>\n",
              "      <td>55</td>\n",
              "    </tr>\n",
              "    <tr>\n",
              "      <th>14</th>\n",
              "      <td>15</td>\n",
              "      <td>reitama</td>\n",
              "      <td>40</td>\n",
              "      <td>60</td>\n",
              "      <td>70</td>\n",
              "    </tr>\n",
              "  </tbody>\n",
              "</table>\n",
              "</div>"
            ],
            "text/plain": [
              "    No     Nama  UTS  Tugas  UAS\n",
              "10  11   justin   45     60   58\n",
              "11  12   jesika   60     70   72\n",
              "12  13      ayu   85     90   88\n",
              "13  14    siska   52     68   55\n",
              "14  15  reitama   40     60   70"
            ]
          },
          "metadata": {
            "tags": []
          },
          "execution_count": 67
        }
      ]
    },
    {
      "cell_type": "code",
      "metadata": {
        "colab": {
          "base_uri": "https://localhost:8080/"
        },
        "id": "QQ2bU8bFDLZn",
        "outputId": "d9420391-0fc1-4ad3-9c33-e28dc9dde27b"
      },
      "source": [
        "# melihat ukuran data\n",
        "N, P = nilai.shape\n",
        "print(\"Kolom = \", P)\n",
        "print(\"Baris = \", N)"
      ],
      "execution_count": 68,
      "outputs": [
        {
          "output_type": "stream",
          "text": [
            "Kolom =  5\n",
            "Baris =  15\n"
          ],
          "name": "stdout"
        }
      ]
    },
    {
      "cell_type": "code",
      "metadata": {
        "id": "L-4h0ViYDLZn"
      },
      "source": [
        "# Menghapus variabel No karna hanya index\n",
        "nilai.drop(\"No\", axis=1, inplace=True)"
      ],
      "execution_count": 69,
      "outputs": []
    },
    {
      "cell_type": "markdown",
      "metadata": {
        "id": "AcR_ppRRDLZo"
      },
      "source": [
        "### Koreksi variabel"
      ]
    },
    {
      "cell_type": "code",
      "metadata": {
        "colab": {
          "base_uri": "https://localhost:8080/"
        },
        "id": "iKfsEUBaDLZo",
        "outputId": "4f3905a4-f64e-4874-c377-ef39c93db62a"
      },
      "source": [
        "# Tipe variabel\n",
        "nilai.info()"
      ],
      "execution_count": 70,
      "outputs": [
        {
          "output_type": "stream",
          "text": [
            "<class 'pandas.core.frame.DataFrame'>\n",
            "RangeIndex: 15 entries, 0 to 14\n",
            "Data columns (total 4 columns):\n",
            " #   Column  Non-Null Count  Dtype \n",
            "---  ------  --------------  ----- \n",
            " 0   Nama    15 non-null     object\n",
            " 1   UTS     15 non-null     int64 \n",
            " 2   Tugas   15 non-null     int64 \n",
            " 3   UAS     15 non-null     int64 \n",
            "dtypes: int64(3), object(1)\n",
            "memory usage: 608.0+ bytes\n"
          ],
          "name": "stdout"
        }
      ]
    },
    {
      "cell_type": "code",
      "metadata": {
        "colab": {
          "base_uri": "https://localhost:8080/"
        },
        "id": "jJ4e1t8jDLZo",
        "outputId": "5f93cb94-bdc1-400e-a4cd-430c748164e9"
      },
      "source": [
        "# Mengecek data duplikat\n",
        "print(nilai.shape)\n",
        "nilai.duplicated().sum()"
      ],
      "execution_count": 71,
      "outputs": [
        {
          "output_type": "stream",
          "text": [
            "(15, 4)\n"
          ],
          "name": "stdout"
        },
        {
          "output_type": "execute_result",
          "data": {
            "text/plain": [
              "0"
            ]
          },
          "metadata": {
            "tags": []
          },
          "execution_count": 71
        }
      ]
    },
    {
      "cell_type": "markdown",
      "metadata": {
        "id": "rw3s4l14DLZp"
      },
      "source": [
        "Tidak ada data yang duplikat"
      ]
    },
    {
      "cell_type": "code",
      "metadata": {
        "colab": {
          "base_uri": "https://localhost:8080/"
        },
        "id": "51WDE23QDLZp",
        "outputId": "74852ef8-b44b-4e57-c6d6-b0f223854745"
      },
      "source": [
        "# Cek Missing value\n",
        "print(nilai.isnull().sum())"
      ],
      "execution_count": 72,
      "outputs": [
        {
          "output_type": "stream",
          "text": [
            "Nama     0\n",
            "UTS      0\n",
            "Tugas    0\n",
            "UAS      0\n",
            "dtype: int64\n"
          ],
          "name": "stdout"
        }
      ]
    },
    {
      "cell_type": "markdown",
      "metadata": {
        "id": "ffPDYD2oDLZp"
      },
      "source": [
        "### Uji Korelasi"
      ]
    },
    {
      "cell_type": "code",
      "metadata": {
        "colab": {
          "base_uri": "https://localhost:8080/",
          "height": 173
        },
        "id": "qnLQg1SoDLZp",
        "outputId": "e16d7f00-866c-40b1-cc60-d31ff12c25d9"
      },
      "source": [
        "# Statistika Deskriptif\n",
        "nilai.describe(include='all').transpose()"
      ],
      "execution_count": 73,
      "outputs": [
        {
          "output_type": "execute_result",
          "data": {
            "text/html": [
              "<div>\n",
              "<style scoped>\n",
              "    .dataframe tbody tr th:only-of-type {\n",
              "        vertical-align: middle;\n",
              "    }\n",
              "\n",
              "    .dataframe tbody tr th {\n",
              "        vertical-align: top;\n",
              "    }\n",
              "\n",
              "    .dataframe thead th {\n",
              "        text-align: right;\n",
              "    }\n",
              "</style>\n",
              "<table border=\"1\" class=\"dataframe\">\n",
              "  <thead>\n",
              "    <tr style=\"text-align: right;\">\n",
              "      <th></th>\n",
              "      <th>count</th>\n",
              "      <th>unique</th>\n",
              "      <th>top</th>\n",
              "      <th>freq</th>\n",
              "      <th>mean</th>\n",
              "      <th>std</th>\n",
              "      <th>min</th>\n",
              "      <th>25%</th>\n",
              "      <th>50%</th>\n",
              "      <th>75%</th>\n",
              "      <th>max</th>\n",
              "    </tr>\n",
              "  </thead>\n",
              "  <tbody>\n",
              "    <tr>\n",
              "      <th>Nama</th>\n",
              "      <td>15</td>\n",
              "      <td>15</td>\n",
              "      <td>rudi</td>\n",
              "      <td>1</td>\n",
              "      <td>NaN</td>\n",
              "      <td>NaN</td>\n",
              "      <td>NaN</td>\n",
              "      <td>NaN</td>\n",
              "      <td>NaN</td>\n",
              "      <td>NaN</td>\n",
              "      <td>NaN</td>\n",
              "    </tr>\n",
              "    <tr>\n",
              "      <th>UTS</th>\n",
              "      <td>15</td>\n",
              "      <td>NaN</td>\n",
              "      <td>NaN</td>\n",
              "      <td>NaN</td>\n",
              "      <td>69.1333</td>\n",
              "      <td>18.6121</td>\n",
              "      <td>40</td>\n",
              "      <td>56</td>\n",
              "      <td>70</td>\n",
              "      <td>87</td>\n",
              "      <td>96</td>\n",
              "    </tr>\n",
              "    <tr>\n",
              "      <th>Tugas</th>\n",
              "      <td>15</td>\n",
              "      <td>NaN</td>\n",
              "      <td>NaN</td>\n",
              "      <td>NaN</td>\n",
              "      <td>73.1333</td>\n",
              "      <td>11.6856</td>\n",
              "      <td>55</td>\n",
              "      <td>66.5</td>\n",
              "      <td>70</td>\n",
              "      <td>80</td>\n",
              "      <td>93</td>\n",
              "    </tr>\n",
              "    <tr>\n",
              "      <th>UAS</th>\n",
              "      <td>15</td>\n",
              "      <td>NaN</td>\n",
              "      <td>NaN</td>\n",
              "      <td>NaN</td>\n",
              "      <td>71.1333</td>\n",
              "      <td>13.8918</td>\n",
              "      <td>48</td>\n",
              "      <td>58.5</td>\n",
              "      <td>73</td>\n",
              "      <td>80.5</td>\n",
              "      <td>95</td>\n",
              "    </tr>\n",
              "  </tbody>\n",
              "</table>\n",
              "</div>"
            ],
            "text/plain": [
              "      count unique   top freq     mean      std  min   25%  50%   75%  max\n",
              "Nama     15     15  rudi    1      NaN      NaN  NaN   NaN  NaN   NaN  NaN\n",
              "UTS      15    NaN   NaN  NaN  69.1333  18.6121   40    56   70    87   96\n",
              "Tugas    15    NaN   NaN  NaN  73.1333  11.6856   55  66.5   70    80   93\n",
              "UAS      15    NaN   NaN  NaN  71.1333  13.8918   48  58.5   73  80.5   95"
            ]
          },
          "metadata": {
            "tags": []
          },
          "execution_count": 73
        }
      ]
    },
    {
      "cell_type": "code",
      "metadata": {
        "colab": {
          "base_uri": "https://localhost:8080/",
          "height": 594
        },
        "id": "GTaxQjRQDLZq",
        "outputId": "a62f4f71-583c-4869-dfcf-10d0faced75e"
      },
      "source": [
        "# Korelasi data\n",
        "nilai.corr()\n",
        "corr2 = nilai.corr()\n",
        "plt.figure(figsize=(12, 10))\n",
        "sns.heatmap(corr2[(corr2 >= 0.5) | (corr2 <= -0.4)],\n",
        "            cmap='viridis', vmax=1.0, vmin=-1.0, linewidths=0.1,\n",
        "            annot=True, annot_kws={\"size\": 14}, square=True);"
      ],
      "execution_count": 74,
      "outputs": [
        {
          "output_type": "display_data",
          "data": {
            "image/png": "[encoded data removed]",
            "text/plain": [
              "<Figure size 864x720 with 2 Axes>"
            ]
          },
          "metadata": {
            "tags": [],
            "needs_background": "light"
          }
        }
      ]
    },
    {
      "cell_type": "markdown",
      "metadata": {
        "id": "f3Jm8vxLDLZq"
      },
      "source": [
        "nilai UTS, Tugas dan UAS ketiganya saling berpengaruh"
      ]
    },
    {
      "cell_type": "markdown",
      "metadata": {
        "id": "7HGbzelPDLZq"
      },
      "source": [
        "### Visualisasi Data"
      ]
    },
    {
      "cell_type": "code",
      "metadata": {
        "colab": {
          "base_uri": "https://localhost:8080/",
          "height": 208
        },
        "id": "Y070cY6EDLZq",
        "outputId": "9fcbc9bc-5b7c-4ed3-fb01-7b6402f85419"
      },
      "source": [
        "num = nilai.select_dtypes(include = ['int64']).columns\n",
        "nilai[num].hist(figsize=(15, 6), layout=(2, 4));"
      ],
      "execution_count": 75,
      "outputs": [
        {
          "output_type": "display_data",
          "data": {
            "image/png": "[encoded data removed]",
            "text/plain": [
              "<Figure size 1080x432 with 8 Axes>"
            ]
          },
          "metadata": {
            "tags": [],
            "needs_background": "light"
          }
        }
      ]
    },
    {
      "cell_type": "markdown",
      "metadata": {
        "id": "n76HSlEFDLZr"
      },
      "source": [
        "## Algoritma K-Means"
      ]
    },
    {
      "cell_type": "code",
      "metadata": {
        "id": "ISmcqs1WDLZr"
      },
      "source": [
        "from sklearn.cluster import KMeans\n",
        "import pandas as pd\n",
        "from matplotlib import pyplot as plt\n",
        "%matplotlib inline"
      ],
      "execution_count": 76,
      "outputs": []
    },
    {
      "cell_type": "code",
      "metadata": {
        "colab": {
          "base_uri": "https://localhost:8080/",
          "height": 204
        },
        "id": "23oqvazxDLZr",
        "outputId": "7f1eae55-81f1-4dd5-b397-9af6b759541c"
      },
      "source": [
        "nilai.head()"
      ],
      "execution_count": 77,
      "outputs": [
        {
          "output_type": "execute_result",
          "data": {
            "text/html": [
              "<div>\n",
              "<style scoped>\n",
              "    .dataframe tbody tr th:only-of-type {\n",
              "        vertical-align: middle;\n",
              "    }\n",
              "\n",
              "    .dataframe tbody tr th {\n",
              "        vertical-align: top;\n",
              "    }\n",
              "\n",
              "    .dataframe thead th {\n",
              "        text-align: right;\n",
              "    }\n",
              "</style>\n",
              "<table border=\"1\" class=\"dataframe\">\n",
              "  <thead>\n",
              "    <tr style=\"text-align: right;\">\n",
              "      <th></th>\n",
              "      <th>Nama</th>\n",
              "      <th>UTS</th>\n",
              "      <th>Tugas</th>\n",
              "      <th>UAS</th>\n",
              "    </tr>\n",
              "  </thead>\n",
              "  <tbody>\n",
              "    <tr>\n",
              "      <th>0</th>\n",
              "      <td>Roy</td>\n",
              "      <td>89</td>\n",
              "      <td>90</td>\n",
              "      <td>75</td>\n",
              "    </tr>\n",
              "    <tr>\n",
              "      <th>1</th>\n",
              "      <td>sintia</td>\n",
              "      <td>90</td>\n",
              "      <td>71</td>\n",
              "      <td>95</td>\n",
              "    </tr>\n",
              "    <tr>\n",
              "      <th>2</th>\n",
              "      <td>iqbal</td>\n",
              "      <td>70</td>\n",
              "      <td>75</td>\n",
              "      <td>80</td>\n",
              "    </tr>\n",
              "    <tr>\n",
              "      <th>3</th>\n",
              "      <td>dilan</td>\n",
              "      <td>45</td>\n",
              "      <td>65</td>\n",
              "      <td>59</td>\n",
              "    </tr>\n",
              "    <tr>\n",
              "      <th>4</th>\n",
              "      <td>ratna</td>\n",
              "      <td>65</td>\n",
              "      <td>75</td>\n",
              "      <td>53</td>\n",
              "    </tr>\n",
              "  </tbody>\n",
              "</table>\n",
              "</div>"
            ],
            "text/plain": [
              "     Nama  UTS  Tugas  UAS\n",
              "0     Roy   89     90   75\n",
              "1  sintia   90     71   95\n",
              "2   iqbal   70     75   80\n",
              "3   dilan   45     65   59\n",
              "4   ratna   65     75   53"
            ]
          },
          "metadata": {
            "tags": []
          },
          "execution_count": 77
        }
      ]
    },
    {
      "cell_type": "code",
      "metadata": {
        "colab": {
          "base_uri": "https://localhost:8080/",
          "height": 285
        },
        "id": "w5yHJvXkDLZr",
        "outputId": "54d5a484-2b40-4eb5-abd0-ad034faf47af"
      },
      "source": [
        "plt.scatter(nilai['UTS'],nilai['Tugas'],nilai['UAS'])"
      ],
      "execution_count": 78,
      "outputs": [
        {
          "output_type": "execute_result",
          "data": {
            "text/plain": [
              "<matplotlib.collections.PathCollection at 0x7f8826b3e890>"
            ]
          },
          "metadata": {
            "tags": []
          },
          "execution_count": 78
        },
        {
          "output_type": "display_data",
          "data": {
            "image/png": "[encoded data removed]",
            "text/plain": [
              "<Figure size 432x288 with 1 Axes>"
            ]
          },
          "metadata": {
            "tags": [],
            "needs_background": "light"
          }
        }
      ]
    },
    {
      "cell_type": "code",
      "metadata": {
        "colab": {
          "base_uri": "https://localhost:8080/"
        },
        "id": "oY0ZB-whDLZs",
        "outputId": "f4848417-2861-4e7e-fd01-e7ef1591e4de"
      },
      "source": [
        "km = KMeans(n_clusters = 3)\n",
        "km"
      ],
      "execution_count": 79,
      "outputs": [
        {
          "output_type": "execute_result",
          "data": {
            "text/plain": [
              "KMeans(algorithm='auto', copy_x=True, init='k-means++', max_iter=300,\n",
              "       n_clusters=3, n_init=10, n_jobs=None, precompute_distances='auto',\n",
              "       random_state=None, tol=0.0001, verbose=0)"
            ]
          },
          "metadata": {
            "tags": []
          },
          "execution_count": 79
        }
      ]
    },
    {
      "cell_type": "code",
      "metadata": {
        "colab": {
          "base_uri": "https://localhost:8080/"
        },
        "id": "vfaInMI2DLZs",
        "outputId": "d4e2cba5-743d-444c-bb90-4a7ca6baabd3"
      },
      "source": [
        "y_predict = km.fit_predict(nilai[['UTS','Tugas','UAS']])\n",
        "y_predict"
      ],
      "execution_count": 80,
      "outputs": [
        {
          "output_type": "execute_result",
          "data": {
            "text/plain": [
              "array([1, 1, 0, 2, 2, 0, 1, 0, 1, 2, 2, 0, 1, 2, 2], dtype=int32)"
            ]
          },
          "metadata": {
            "tags": []
          },
          "execution_count": 80
        }
      ]
    },
    {
      "cell_type": "code",
      "metadata": {
        "colab": {
          "base_uri": "https://localhost:8080/",
          "height": 514
        },
        "id": "5iTpkZztDLZs",
        "outputId": "d41cba3a-2a2d-460d-f234-b97a968f72de"
      },
      "source": [
        "nilai['Cluster KMeans'] = y_predict\n",
        "nilai"
      ],
      "execution_count": 81,
      "outputs": [
        {
          "output_type": "execute_result",
          "data": {
            "text/html": [
              "<div>\n",
              "<style scoped>\n",
              "    .dataframe tbody tr th:only-of-type {\n",
              "        vertical-align: middle;\n",
              "    }\n",
              "\n",
              "    .dataframe tbody tr th {\n",
              "        vertical-align: top;\n",
              "    }\n",
              "\n",
              "    .dataframe thead th {\n",
              "        text-align: right;\n",
              "    }\n",
              "</style>\n",
              "<table border=\"1\" class=\"dataframe\">\n",
              "  <thead>\n",
              "    <tr style=\"text-align: right;\">\n",
              "      <th></th>\n",
              "      <th>Nama</th>\n",
              "      <th>UTS</th>\n",
              "      <th>Tugas</th>\n",
              "      <th>UAS</th>\n",
              "      <th>Cluster KMeans</th>\n",
              "    </tr>\n",
              "  </thead>\n",
              "  <tbody>\n",
              "    <tr>\n",
              "      <th>0</th>\n",
              "      <td>Roy</td>\n",
              "      <td>89</td>\n",
              "      <td>90</td>\n",
              "      <td>75</td>\n",
              "      <td>1</td>\n",
              "    </tr>\n",
              "    <tr>\n",
              "      <th>1</th>\n",
              "      <td>sintia</td>\n",
              "      <td>90</td>\n",
              "      <td>71</td>\n",
              "      <td>95</td>\n",
              "      <td>1</td>\n",
              "    </tr>\n",
              "    <tr>\n",
              "      <th>2</th>\n",
              "      <td>iqbal</td>\n",
              "      <td>70</td>\n",
              "      <td>75</td>\n",
              "      <td>80</td>\n",
              "      <td>0</td>\n",
              "    </tr>\n",
              "    <tr>\n",
              "      <th>3</th>\n",
              "      <td>dilan</td>\n",
              "      <td>45</td>\n",
              "      <td>65</td>\n",
              "      <td>59</td>\n",
              "      <td>2</td>\n",
              "    </tr>\n",
              "    <tr>\n",
              "      <th>4</th>\n",
              "      <td>ratna</td>\n",
              "      <td>65</td>\n",
              "      <td>75</td>\n",
              "      <td>53</td>\n",
              "      <td>2</td>\n",
              "    </tr>\n",
              "    <tr>\n",
              "      <th>5</th>\n",
              "      <td>merry</td>\n",
              "      <td>80</td>\n",
              "      <td>70</td>\n",
              "      <td>75</td>\n",
              "      <td>0</td>\n",
              "    </tr>\n",
              "    <tr>\n",
              "      <th>6</th>\n",
              "      <td>rudi</td>\n",
              "      <td>90</td>\n",
              "      <td>85</td>\n",
              "      <td>81</td>\n",
              "      <td>1</td>\n",
              "    </tr>\n",
              "    <tr>\n",
              "      <th>7</th>\n",
              "      <td>hafiz</td>\n",
              "      <td>70</td>\n",
              "      <td>70</td>\n",
              "      <td>73</td>\n",
              "      <td>0</td>\n",
              "    </tr>\n",
              "    <tr>\n",
              "      <th>8</th>\n",
              "      <td>gede</td>\n",
              "      <td>96</td>\n",
              "      <td>93</td>\n",
              "      <td>85</td>\n",
              "      <td>1</td>\n",
              "    </tr>\n",
              "    <tr>\n",
              "      <th>9</th>\n",
              "      <td>christian</td>\n",
              "      <td>60</td>\n",
              "      <td>55</td>\n",
              "      <td>48</td>\n",
              "      <td>2</td>\n",
              "    </tr>\n",
              "    <tr>\n",
              "      <th>10</th>\n",
              "      <td>justin</td>\n",
              "      <td>45</td>\n",
              "      <td>60</td>\n",
              "      <td>58</td>\n",
              "      <td>2</td>\n",
              "    </tr>\n",
              "    <tr>\n",
              "      <th>11</th>\n",
              "      <td>jesika</td>\n",
              "      <td>60</td>\n",
              "      <td>70</td>\n",
              "      <td>72</td>\n",
              "      <td>0</td>\n",
              "    </tr>\n",
              "    <tr>\n",
              "      <th>12</th>\n",
              "      <td>ayu</td>\n",
              "      <td>85</td>\n",
              "      <td>90</td>\n",
              "      <td>88</td>\n",
              "      <td>1</td>\n",
              "    </tr>\n",
              "    <tr>\n",
              "      <th>13</th>\n",
              "      <td>siska</td>\n",
              "      <td>52</td>\n",
              "      <td>68</td>\n",
              "      <td>55</td>\n",
              "      <td>2</td>\n",
              "    </tr>\n",
              "    <tr>\n",
              "      <th>14</th>\n",
              "      <td>reitama</td>\n",
              "      <td>40</td>\n",
              "      <td>60</td>\n",
              "      <td>70</td>\n",
              "      <td>2</td>\n",
              "    </tr>\n",
              "  </tbody>\n",
              "</table>\n",
              "</div>"
            ],
            "text/plain": [
              "         Nama  UTS  Tugas  UAS  Cluster KMeans\n",
              "0         Roy   89     90   75               1\n",
              "1      sintia   90     71   95               1\n",
              "2       iqbal   70     75   80               0\n",
              "3       dilan   45     65   59               2\n",
              "4       ratna   65     75   53               2\n",
              "5       merry   80     70   75               0\n",
              "6        rudi   90     85   81               1\n",
              "7       hafiz   70     70   73               0\n",
              "8        gede   96     93   85               1\n",
              "9   christian   60     55   48               2\n",
              "10     justin   45     60   58               2\n",
              "11     jesika   60     70   72               0\n",
              "12        ayu   85     90   88               1\n",
              "13      siska   52     68   55               2\n",
              "14    reitama   40     60   70               2"
            ]
          },
          "metadata": {
            "tags": []
          },
          "execution_count": 81
        }
      ]
    },
    {
      "cell_type": "code",
      "metadata": {
        "colab": {
          "base_uri": "https://localhost:8080/"
        },
        "id": "Y5oVRKA8DLZt",
        "outputId": "11d5e5d1-cf7d-418f-d428-a29a73cd93ce"
      },
      "source": [
        "km.cluster_centers_"
      ],
      "execution_count": 82,
      "outputs": [
        {
          "output_type": "execute_result",
          "data": {
            "text/plain": [
              "array([[70.        , 71.25      , 75.        ],\n",
              "       [90.        , 85.8       , 84.8       ],\n",
              "       [51.16666667, 63.83333333, 57.16666667]])"
            ]
          },
          "metadata": {
            "tags": []
          },
          "execution_count": 82
        }
      ]
    },
    {
      "cell_type": "code",
      "metadata": {
        "colab": {
          "base_uri": "https://localhost:8080/",
          "height": 285
        },
        "id": "JkZdmaZ7DLZt",
        "outputId": "7346f72b-4305-4da5-a39f-f49eb0c2e1d4"
      },
      "source": [
        "n1 = nilai[nilai.Cluster == 0]\n",
        "n2 = nilai[nilai.Cluster == 1]\n",
        "n3 = nilai[nilai.Cluster == 2]\n",
        "\n",
        "plt.scatter(n1.UTS, n1.Tugas, n1.UAS, color='green')\n",
        "plt.scatter(n2.UTS, n2.Tugas, n2.UAS, color='red')\n",
        "plt.scatter(n3.UTS, n3.Tugas, n3.UAS, color='black')"
      ],
      "execution_count": 22,
      "outputs": [
        {
          "output_type": "execute_result",
          "data": {
            "text/plain": [
              "<matplotlib.collections.PathCollection at 0x7f885179d510>"
            ]
          },
          "metadata": {
            "tags": []
          },
          "execution_count": 22
        },
        {
          "output_type": "display_data",
          "data": {
            "image/png": "[encoded data removed]",
            "text/plain": [
              "<Figure size 432x288 with 1 Axes>"
            ]
          },
          "metadata": {
            "tags": [],
            "needs_background": "light"
          }
        }
      ]
    },
    {
      "cell_type": "markdown",
      "metadata": {
        "id": "Ern5KOyIDLZt"
      },
      "source": [
        "## Algoritma Fuzzy C-Means"
      ]
    },
    {
      "cell_type": "code",
      "metadata": {
        "colab": {
          "base_uri": "https://localhost:8080/"
        },
        "id": "JKL5u5r2ExDZ",
        "outputId": "89180726-ccdc-4374-be69-00f01db05794"
      },
      "source": [
        "pip install fuzzy-c-means"
      ],
      "execution_count": 23,
      "outputs": [
        {
          "output_type": "stream",
          "text": [
            "Collecting fuzzy-c-means\n",
            "  Downloading https://files.pythonhosted.org/packages/cc/34/64498f52ddfb0a22a22f2cfcc0b293c6864f6fcc664a53b4cce9302b59fc/fuzzy_c_means-1.2.4-py3-none-any.whl\n",
            "Requirement already satisfied: jax<0.3.0,>=0.2.7 in /usr/local/lib/python3.7/dist-packages (from fuzzy-c-means) (0.2.12)\n",
            "Requirement already satisfied: jaxlib<0.2.0,>=0.1.57 in /usr/local/lib/python3.7/dist-packages (from fuzzy-c-means) (0.1.65+cuda110)\n",
            "Requirement already satisfied: numpy>=1.12 in /usr/local/lib/python3.7/dist-packages (from jax<0.3.0,>=0.2.7->fuzzy-c-means) (1.19.5)\n",
            "Requirement already satisfied: opt-einsum in /usr/local/lib/python3.7/dist-packages (from jax<0.3.0,>=0.2.7->fuzzy-c-means) (3.3.0)\n",
            "Requirement already satisfied: absl-py in /usr/local/lib/python3.7/dist-packages (from jax<0.3.0,>=0.2.7->fuzzy-c-means) (0.12.0)\n",
            "Requirement already satisfied: flatbuffers in /usr/local/lib/python3.7/dist-packages (from jaxlib<0.2.0,>=0.1.57->fuzzy-c-means) (1.12)\n",
            "Requirement already satisfied: scipy in /usr/local/lib/python3.7/dist-packages (from jaxlib<0.2.0,>=0.1.57->fuzzy-c-means) (1.4.1)\n",
            "Requirement already satisfied: six in /usr/local/lib/python3.7/dist-packages (from absl-py->jax<0.3.0,>=0.2.7->fuzzy-c-means) (1.15.0)\n",
            "Installing collected packages: fuzzy-c-means\n",
            "Successfully installed fuzzy-c-means-1.2.4\n"
          ],
          "name": "stdout"
        }
      ]
    },
    {
      "cell_type": "code",
      "metadata": {
        "id": "WbzM1eyMDLZt"
      },
      "source": [
        "import sys\n",
        "sys.path.insert(0,'FuzzyCM')\n",
        "from fcmeans import FCM\n",
        "from sklearn.datasets import make_blobs\n",
        "from matplotlib import pyplot as plt\n",
        "from seaborn import scatterplot as scatter"
      ],
      "execution_count": 85,
      "outputs": []
    },
    {
      "cell_type": "code",
      "metadata": {
        "id": "lKBklyFLIFmX"
      },
      "source": [
        "nilai['UTS'] = nilai['UTS'].astype('float64')\n",
        "nilai['Tugas'] = nilai['Tugas'].astype('float64')\n",
        "nilai['UAS'] = nilai['UAS'].astype('float64')\n"
      ],
      "execution_count": 41,
      "outputs": []
    },
    {
      "cell_type": "code",
      "metadata": {
        "colab": {
          "base_uri": "https://localhost:8080/",
          "height": 204
        },
        "id": "Upv-OXAVF84v",
        "outputId": "46422a1e-1508-4a99-d251-43aeb8e318e7"
      },
      "source": [
        "X = nilai.iloc[:, 1:4]\n",
        "X.head()"
      ],
      "execution_count": 46,
      "outputs": [
        {
          "output_type": "execute_result",
          "data": {
            "text/html": [
              "<div>\n",
              "<style scoped>\n",
              "    .dataframe tbody tr th:only-of-type {\n",
              "        vertical-align: middle;\n",
              "    }\n",
              "\n",
              "    .dataframe tbody tr th {\n",
              "        vertical-align: top;\n",
              "    }\n",
              "\n",
              "    .dataframe thead th {\n",
              "        text-align: right;\n",
              "    }\n",
              "</style>\n",
              "<table border=\"1\" class=\"dataframe\">\n",
              "  <thead>\n",
              "    <tr style=\"text-align: right;\">\n",
              "      <th></th>\n",
              "      <th>UTS</th>\n",
              "      <th>Tugas</th>\n",
              "      <th>UAS</th>\n",
              "    </tr>\n",
              "  </thead>\n",
              "  <tbody>\n",
              "    <tr>\n",
              "      <th>0</th>\n",
              "      <td>89.0</td>\n",
              "      <td>90.0</td>\n",
              "      <td>75.0</td>\n",
              "    </tr>\n",
              "    <tr>\n",
              "      <th>1</th>\n",
              "      <td>90.0</td>\n",
              "      <td>71.0</td>\n",
              "      <td>95.0</td>\n",
              "    </tr>\n",
              "    <tr>\n",
              "      <th>2</th>\n",
              "      <td>70.0</td>\n",
              "      <td>75.0</td>\n",
              "      <td>80.0</td>\n",
              "    </tr>\n",
              "    <tr>\n",
              "      <th>3</th>\n",
              "      <td>45.0</td>\n",
              "      <td>65.0</td>\n",
              "      <td>59.0</td>\n",
              "    </tr>\n",
              "    <tr>\n",
              "      <th>4</th>\n",
              "      <td>65.0</td>\n",
              "      <td>75.0</td>\n",
              "      <td>53.0</td>\n",
              "    </tr>\n",
              "  </tbody>\n",
              "</table>\n",
              "</div>"
            ],
            "text/plain": [
              "    UTS  Tugas   UAS\n",
              "0  89.0   90.0  75.0\n",
              "1  90.0   71.0  95.0\n",
              "2  70.0   75.0  80.0\n",
              "3  45.0   65.0  59.0\n",
              "4  65.0   75.0  53.0"
            ]
          },
          "metadata": {
            "tags": []
          },
          "execution_count": 46
        }
      ]
    },
    {
      "cell_type": "code",
      "metadata": {
        "id": "0hs4tSojPgLB"
      },
      "source": [
        "x = np.array(X)"
      ],
      "execution_count": 58,
      "outputs": []
    },
    {
      "cell_type": "code",
      "metadata": {
        "colab": {
          "base_uri": "https://localhost:8080/"
        },
        "id": "keykH83jFYce",
        "outputId": "bbb7d535-4e6e-41fb-b471-4967dbbf028e"
      },
      "source": [
        "Y = nilai.iloc[:,-5]\n",
        "Y.head()"
      ],
      "execution_count": 43,
      "outputs": [
        {
          "output_type": "execute_result",
          "data": {
            "text/plain": [
              "0       Roy\n",
              "1    sintia\n",
              "2     iqbal\n",
              "3     dilan\n",
              "4     ratna\n",
              "Name: Nama, dtype: object"
            ]
          },
          "metadata": {
            "tags": []
          },
          "execution_count": 43
        }
      ]
    },
    {
      "cell_type": "code",
      "metadata": {
        "id": "eKqpH1sQDLZu"
      },
      "source": [
        "fcm = FCM(n_clusters=3, m= 2, max_iter=5, error=0.1)\n",
        "fcm.fit(x)"
      ],
      "execution_count": 59,
      "outputs": []
    },
    {
      "cell_type": "code",
      "metadata": {
        "id": "clrHtEb9OMhn"
      },
      "source": [
        "fcm_centers = fcm.centers\n",
        "fcm_labels  = fcm.u.argmax(axis=1)"
      ],
      "execution_count": 60,
      "outputs": []
    },
    {
      "cell_type": "code",
      "metadata": {
        "colab": {
          "base_uri": "https://localhost:8080/"
        },
        "id": "BvQCdfEYPw91",
        "outputId": "39fb042c-9efe-49f1-b966-1b06b02cf016"
      },
      "source": [
        "print(fcm_centers)"
      ],
      "execution_count": 61,
      "outputs": [
        {
          "output_type": "stream",
          "text": [
            "[[89.671646 87.2198   83.40643 ]\n",
            " [49.372826 63.306717 58.158714]\n",
            " [71.56123  71.49846  74.86591 ]]\n"
          ],
          "name": "stdout"
        }
      ]
    },
    {
      "cell_type": "code",
      "metadata": {
        "colab": {
          "base_uri": "https://localhost:8080/"
        },
        "id": "7K5aYDEyP3WF",
        "outputId": "b4a0e71b-5d20-4a3e-b66f-8989dafddc56"
      },
      "source": [
        "print(fcm_labels)"
      ],
      "execution_count": 62,
      "outputs": [
        {
          "output_type": "stream",
          "text": [
            "[0 0 2 1 1 2 0 2 0 1 1 2 0 1 1]\n"
          ],
          "name": "stdout"
        }
      ]
    },
    {
      "cell_type": "code",
      "metadata": {
        "colab": {
          "base_uri": "https://localhost:8080/",
          "height": 514
        },
        "id": "ktvYX_-KRREC",
        "outputId": "9af905b4-8f59-4b53-e810-b5e8f9129c9b"
      },
      "source": [
        "nilai['Cluster Fuzzy'] = fcm_labels\n",
        "nilai"
      ],
      "execution_count": 87,
      "outputs": [
        {
          "output_type": "execute_result",
          "data": {
            "text/html": [
              "<div>\n",
              "<style scoped>\n",
              "    .dataframe tbody tr th:only-of-type {\n",
              "        vertical-align: middle;\n",
              "    }\n",
              "\n",
              "    .dataframe tbody tr th {\n",
              "        vertical-align: top;\n",
              "    }\n",
              "\n",
              "    .dataframe thead th {\n",
              "        text-align: right;\n",
              "    }\n",
              "</style>\n",
              "<table border=\"1\" class=\"dataframe\">\n",
              "  <thead>\n",
              "    <tr style=\"text-align: right;\">\n",
              "      <th></th>\n",
              "      <th>Nama</th>\n",
              "      <th>UTS</th>\n",
              "      <th>Tugas</th>\n",
              "      <th>UAS</th>\n",
              "      <th>Cluster KMeans</th>\n",
              "      <th>Cluster Fuzzy</th>\n",
              "    </tr>\n",
              "  </thead>\n",
              "  <tbody>\n",
              "    <tr>\n",
              "      <th>0</th>\n",
              "      <td>Roy</td>\n",
              "      <td>89</td>\n",
              "      <td>90</td>\n",
              "      <td>75</td>\n",
              "      <td>1</td>\n",
              "      <td>0</td>\n",
              "    </tr>\n",
              "    <tr>\n",
              "      <th>1</th>\n",
              "      <td>sintia</td>\n",
              "      <td>90</td>\n",
              "      <td>71</td>\n",
              "      <td>95</td>\n",
              "      <td>1</td>\n",
              "      <td>0</td>\n",
              "    </tr>\n",
              "    <tr>\n",
              "      <th>2</th>\n",
              "      <td>iqbal</td>\n",
              "      <td>70</td>\n",
              "      <td>75</td>\n",
              "      <td>80</td>\n",
              "      <td>0</td>\n",
              "      <td>2</td>\n",
              "    </tr>\n",
              "    <tr>\n",
              "      <th>3</th>\n",
              "      <td>dilan</td>\n",
              "      <td>45</td>\n",
              "      <td>65</td>\n",
              "      <td>59</td>\n",
              "      <td>2</td>\n",
              "      <td>1</td>\n",
              "    </tr>\n",
              "    <tr>\n",
              "      <th>4</th>\n",
              "      <td>ratna</td>\n",
              "      <td>65</td>\n",
              "      <td>75</td>\n",
              "      <td>53</td>\n",
              "      <td>2</td>\n",
              "      <td>1</td>\n",
              "    </tr>\n",
              "    <tr>\n",
              "      <th>5</th>\n",
              "      <td>merry</td>\n",
              "      <td>80</td>\n",
              "      <td>70</td>\n",
              "      <td>75</td>\n",
              "      <td>0</td>\n",
              "      <td>2</td>\n",
              "    </tr>\n",
              "    <tr>\n",
              "      <th>6</th>\n",
              "      <td>rudi</td>\n",
              "      <td>90</td>\n",
              "      <td>85</td>\n",
              "      <td>81</td>\n",
              "      <td>1</td>\n",
              "      <td>0</td>\n",
              "    </tr>\n",
              "    <tr>\n",
              "      <th>7</th>\n",
              "      <td>hafiz</td>\n",
              "      <td>70</td>\n",
              "      <td>70</td>\n",
              "      <td>73</td>\n",
              "      <td>0</td>\n",
              "      <td>2</td>\n",
              "    </tr>\n",
              "    <tr>\n",
              "      <th>8</th>\n",
              "      <td>gede</td>\n",
              "      <td>96</td>\n",
              "      <td>93</td>\n",
              "      <td>85</td>\n",
              "      <td>1</td>\n",
              "      <td>0</td>\n",
              "    </tr>\n",
              "    <tr>\n",
              "      <th>9</th>\n",
              "      <td>christian</td>\n",
              "      <td>60</td>\n",
              "      <td>55</td>\n",
              "      <td>48</td>\n",
              "      <td>2</td>\n",
              "      <td>1</td>\n",
              "    </tr>\n",
              "    <tr>\n",
              "      <th>10</th>\n",
              "      <td>justin</td>\n",
              "      <td>45</td>\n",
              "      <td>60</td>\n",
              "      <td>58</td>\n",
              "      <td>2</td>\n",
              "      <td>1</td>\n",
              "    </tr>\n",
              "    <tr>\n",
              "      <th>11</th>\n",
              "      <td>jesika</td>\n",
              "      <td>60</td>\n",
              "      <td>70</td>\n",
              "      <td>72</td>\n",
              "      <td>0</td>\n",
              "      <td>2</td>\n",
              "    </tr>\n",
              "    <tr>\n",
              "      <th>12</th>\n",
              "      <td>ayu</td>\n",
              "      <td>85</td>\n",
              "      <td>90</td>\n",
              "      <td>88</td>\n",
              "      <td>1</td>\n",
              "      <td>0</td>\n",
              "    </tr>\n",
              "    <tr>\n",
              "      <th>13</th>\n",
              "      <td>siska</td>\n",
              "      <td>52</td>\n",
              "      <td>68</td>\n",
              "      <td>55</td>\n",
              "      <td>2</td>\n",
              "      <td>1</td>\n",
              "    </tr>\n",
              "    <tr>\n",
              "      <th>14</th>\n",
              "      <td>reitama</td>\n",
              "      <td>40</td>\n",
              "      <td>60</td>\n",
              "      <td>70</td>\n",
              "      <td>2</td>\n",
              "      <td>1</td>\n",
              "    </tr>\n",
              "  </tbody>\n",
              "</table>\n",
              "</div>"
            ],
            "text/plain": [
              "         Nama  UTS  Tugas  UAS  Cluster KMeans  Cluster Fuzzy\n",
              "0         Roy   89     90   75               1              0\n",
              "1      sintia   90     71   95               1              0\n",
              "2       iqbal   70     75   80               0              2\n",
              "3       dilan   45     65   59               2              1\n",
              "4       ratna   65     75   53               2              1\n",
              "5       merry   80     70   75               0              2\n",
              "6        rudi   90     85   81               1              0\n",
              "7       hafiz   70     70   73               0              2\n",
              "8        gede   96     93   85               1              0\n",
              "9   christian   60     55   48               2              1\n",
              "10     justin   45     60   58               2              1\n",
              "11     jesika   60     70   72               0              2\n",
              "12        ayu   85     90   88               1              0\n",
              "13      siska   52     68   55               2              1\n",
              "14    reitama   40     60   70               2              1"
            ]
          },
          "metadata": {
            "tags": []
          },
          "execution_count": 87
        }
      ]
    },
    {
      "cell_type": "code",
      "metadata": {
        "colab": {
          "base_uri": "https://localhost:8080/",
          "height": 322
        },
        "id": "5i13ijLCLt1m",
        "outputId": "2384c76b-4fd7-4b4a-d8b0-e4f1d6b82e39"
      },
      "source": [
        "# plot result\n",
        "%matplotlib inline\n",
        "f, axes = plt.subplots(1, 2, figsize=(11,5))\n",
        "scatter(x[:,0], x[:,1], ax=axes[0])\n",
        "scatter(x[:,0], x[:,1], ax=axes[1], hue=fcm_labels)\n",
        "scatter(fcm_centers[:,0], fcm_centers[:,1], ax=axes[1],marker=\"s\",s=200)\n",
        "plt.show()"
      ],
      "execution_count": 86,
      "outputs": [
        {
          "output_type": "display_data",
          "data": {
            "image/png": "[encoded data removed]",
            "text/plain": [
              "<Figure size 792x360 with 2 Axes>"
            ]
          },
          "metadata": {
            "tags": [],
            "needs_background": "light"
          }
        }
      ]
    }
  ]
}